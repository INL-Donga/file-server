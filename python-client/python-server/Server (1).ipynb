{
 "cells": [
  {
   "cell_type": "markdown",
   "id": "13c05942-231f-4516-856a-c58dbf226022",
   "metadata": {},
   "source": [
    "# Setting"
   ]
  },
  {
   "cell_type": "markdown",
   "id": "a2870def-0acc-46d0-818d-43abae28bd83",
   "metadata": {},
   "source": [
    "## Import"
   ]
  },
  {
   "cell_type": "code",
   "execution_count": 1,
   "id": "82d56420-6158-45f1-9222-9010e26102f6",
   "metadata": {},
   "outputs": [],
   "source": [
    "import multiprocessing\n",
    "import socket\n",
    "import time\n",
    "\n",
    "import os\n",
    "import time\n",
    "import copy\n",
    "import random\n",
    "import math\n",
    "\n",
    "import numpy as np\n",
    "import pandas as pd\n",
    "\n",
    "import torch\n",
    "import torch.nn as nn\n",
    "import torch.nn.functional as F\n",
    "from torch.utils.data import TensorDataset, DataLoader, Subset\n",
    "\n",
    "from torchvision import datasets\n",
    "from torchvision import transforms\n",
    "\n",
    "import matplotlib.pyplot as plt\n",
    "from PIL import Image\n",
    "\n",
    "import IPython"
   ]
  },
  {
   "cell_type": "code",
   "execution_count": 3,
   "id": "8f156cd3-8265-4971-9258-cb8558c9ed1a",
   "metadata": {},
   "outputs": [
    {
     "name": "stdout",
     "output_type": "stream",
     "text": [
      "cpu\n"
     ]
    }
   ],
   "source": [
    "device = 'cuda' if torch.cuda.is_available() else 'cpu'\n",
    "print(device)"
   ]
  },
  {
   "cell_type": "code",
   "execution_count": 4,
   "id": "a6bd1a80",
   "metadata": {},
   "outputs": [
    {
     "name": "stdout",
     "output_type": "stream",
     "text": [
      "Downloading https://www.cs.toronto.edu/~kriz/cifar-10-python.tar.gz to ./data\\cifar-10-python.tar.gz\n"
     ]
    },
    {
     "name": "stderr",
     "output_type": "stream",
     "text": [
      "100.0%\n"
     ]
    },
    {
     "name": "stdout",
     "output_type": "stream",
     "text": [
      "Extracting ./data\\cifar-10-python.tar.gz to ./data\n"
     ]
    }
   ],
   "source": [
    "transform = transforms.Compose([\n",
    "    transforms.ToTensor(),  # 이미지를 PyTorch 텐서로 변환\n",
    "    transforms.Normalize((0.5, 0.5, 0.5), (0.5, 0.5, 0.5))  # RGB 채널을 정규화\n",
    "])\n",
    "\n",
    "testset = datasets.CIFAR10(root='./data', train=False, download=True, transform=transforms)"
   ]
  },
  {
   "cell_type": "code",
   "execution_count": 5,
   "id": "459f24d9",
   "metadata": {},
   "outputs": [],
   "source": [
    "test_loader = torch.utils.data.DataLoader(testset, batch_size=64, shuffle=False, num_workers=2)"
   ]
  },
  {
   "cell_type": "markdown",
   "id": "3e81ad52-de1f-4d91-89d9-e3f799ec3320",
   "metadata": {},
   "source": [
    "# Model"
   ]
  },
  {
   "cell_type": "code",
   "execution_count": 6,
   "id": "7134324e-c0a7-44da-a35d-fbcbd2d49f26",
   "metadata": {},
   "outputs": [],
   "source": [
    "def conv3x3(in_planes, out_planes, stride=1):\n",
    "    return nn.Conv2d(in_planes, out_planes, kernel_size=3, stride=stride, padding=1, bias=False)\n",
    "\n",
    "class BasicBlock_18(nn.Module):\n",
    "    expansion = 1\n",
    "    def __init__(self, inplanes, planes, stride=1, downsample=None):\n",
    "        super(BasicBlock_18, self).__init__()\n",
    "        self.conv_1 = conv3x3(inplanes, planes, stride)\n",
    "        self.bn_1 = nn.BatchNorm2d(planes)\n",
    "        self.relu = nn.ReLU(inplace=True)\n",
    "        self.conv_2 = conv3x3(planes, planes)\n",
    "        self.bn_2 = nn.BatchNorm2d(planes)\n",
    "        self.downsample = downsample\n",
    "        self.stride = stride\n",
    "\n",
    "    def forward(self, x):\n",
    "        residual = x\n",
    "\n",
    "        out = self.conv_1(x)\n",
    "        out = self.bn_1(out)\n",
    "        out = self.relu(out)\n",
    "\n",
    "        out = self.conv_2(out)\n",
    "        out = self.bn_2(out)\n",
    "\n",
    "        if self.downsample is not None:\n",
    "            residual = self.downsample(x)\n",
    "\n",
    "        out = out + residual\n",
    "        out = self.relu(out)\n",
    "\n",
    "        return out\n",
    "\n",
    "class ResNet_18(nn.Module):\n",
    "    def __init__(self, block, layers, num_classes, grayscale):\n",
    "        self.inplanes = 64\n",
    "        if grayscale:\n",
    "            in_dim = 1\n",
    "        else:\n",
    "            in_dim = 3\n",
    "\n",
    "        super(ResNet_18, self).__init__()\n",
    "        self.conv1g = nn.Conv2d(in_dim, 64, kernel_size=7, stride=2, padding=3, bias=False)\n",
    "        self.bng = nn.BatchNorm2d(64)\n",
    "        self.relu = nn.ReLU(inplace=True)\n",
    "        self.maxpool = nn.MaxPool2d(kernel_size=3, stride=2, padding=1)\n",
    "        self.layer1 = self._make_layer(block, 64, layers[0])\n",
    "        self.layer2 = self._make_layer(block, 128, layers[1], stride=2)\n",
    "        self.layer3 = self._make_layer(block, 256, layers[2], stride=2)\n",
    "        self.layer4 = self._make_layer(block, 512, layers[3], stride=2)\n",
    "        self.avgpool = nn.AvgPool2d(7, stride=1)\n",
    "        self.fc = nn.Linear(512*block.expansion, num_classes)\n",
    "\n",
    "        for m in self.modules():\n",
    "            if isinstance(m, nn.Conv2d):\n",
    "                n = m.kernel_size[0] * m.kernel_size[1] * m.out_channels\n",
    "                m.weight.data.normal_(0, (2. / n)**.5)\n",
    "            elif isinstance(m, nn.BatchNorm2d):\n",
    "                m.weight.data.fill_(1)\n",
    "                m.bias.data.zero_()\n",
    "\n",
    "    def _make_layer(self, block, planes, blocks, stride=1):\n",
    "        downsample = None\n",
    "        if stride != 1 or self.inplanes != planes * block.expansion:\n",
    "            downsample = nn.Sequential(\n",
    "                nn.Conv2d(self.inplanes, planes * block.expansion,\n",
    "                          kernel_size=1, stride=stride, bias=False),\n",
    "                nn.BatchNorm2d(planes*block.expansion),\n",
    "            )\n",
    "        layers = []\n",
    "        layers.append(block(self.inplanes, planes, stride, downsample))\n",
    "        self.inplanes = planes * block.expansion\n",
    "        for i in range(1, blocks):\n",
    "            layers.append(block(self.inplanes, planes))\n",
    "        return nn.Sequential(*layers)\n",
    "\n",
    "    def forward(self, x):\n",
    "        x = self.conv1g(x)\n",
    "        x = self.bng(x)\n",
    "        x = self.relu(x)\n",
    "        x = self.maxpool(x)\n",
    "\n",
    "        x = self.layer1(x)\n",
    "        x = self.layer2(x)\n",
    "        x = self.layer3(x)\n",
    "        x = self.layer4(x)\n",
    "\n",
    "        x_full = x.view(x.size(0), -1)\n",
    "        logits = self.fc(x_full)\n",
    "        #probas = F.softmax(logits, dim=1)\n",
    "        return logits, x_full\n",
    "\n",
    "def resnet18(num_classes, GRAYSCALE):\n",
    "    model = ResNet_18(block=BasicBlock_18, layers=[2,2,2,2], num_classes=num_classes, grayscale=GRAYSCALE)\n",
    "    return model"
   ]
  },
  {
   "cell_type": "markdown",
   "id": "6b84a1db-6bd3-4ff6-9cb4-8c8e41fffae3",
   "metadata": {},
   "source": [
    "# Model Weight Avg"
   ]
  },
  {
   "cell_type": "code",
   "execution_count": 7,
   "id": "10f99ab5-6166-488a-a3f1-1ce144338028",
   "metadata": {},
   "outputs": [],
   "source": [
    "def running_model_avg(current, next, scale):\n",
    "    if current == None:\n",
    "        current = next\n",
    "        for key in current:\n",
    "            current[key] = current[key] * scale\n",
    "    else:\n",
    "        for key in current:\n",
    "            current[key] = current[key] + (next[key] * scale)\n",
    "    return current"
   ]
  },
  {
   "cell_type": "code",
   "execution_count": 8,
   "id": "81f54984",
   "metadata": {},
   "outputs": [],
   "source": [
    "criterion = nn.CrossEntropyLoss()"
   ]
  },
  {
   "cell_type": "code",
   "execution_count": 9,
   "id": "175aeb14-d00f-4c5b-9cc8-0966245046e6",
   "metadata": {},
   "outputs": [],
   "source": [
    "def train_client(client_loader, global_model, num_local_epochs, lr):\n",
    "    local_model = copy.deepcopy(global_model)\n",
    "    local_model = local_model.to(device)\n",
    "    local_model.train()\n",
    "    optimizer = torch.optim.SGD(local_model.parameters(), lr=lr, momentum = 0.9)\n",
    "\n",
    "    for epoch in range(num_local_epochs):\n",
    "        for (i, (x,y)) in enumerate(client_loader):\n",
    "            x = x.to(device)\n",
    "            y = y.to(device)\n",
    "            optimizer.zero_grad()\n",
    "            local_out, _ = local_model(x)\n",
    "      \n",
    "            loss = criterion(local_out, y)\n",
    "            loss.backward()\n",
    "            optimizer.step()\n",
    "    \n",
    "    \n",
    "    return local_model"
   ]
  },
  {
   "cell_type": "markdown",
   "id": "662aec8d",
   "metadata": {},
   "source": [
    "## Communication Setup"
   ]
  },
  {
   "cell_type": "code",
   "execution_count": 10,
   "id": "4976f7c4",
   "metadata": {},
   "outputs": [
    {
     "name": "stdout",
     "output_type": "stream",
     "text": [
      "정상적으로 서버와 연결이 완료되었습니다.\n"
     ]
    }
   ],
   "source": [
    "# import socket\n",
    "\n",
    "\n",
    "# server_address = ('localhost', 9090) # 항시 Localhost -> Java 가동 서버로 전달 \n",
    "\n",
    "# with socket.socket(socket.AF_INET, socket.SOCK_STREAM) as s:\n",
    "#     try:\n",
    "#         # 서버에 연결 시도 \n",
    "#         s.connect(server_address)\n",
    "        \n",
    "#         # 연결 성공 시 서버 정보 출력\n",
    "#         print(\"정상적으로 서버와 연결이 완료되었습니다.\")\n",
    "\n",
    "            \n",
    "#     except socket.error as e:\n",
    "#         # 연결 실패 시 오류 메시지 출력\n",
    "#         print(\"통신 도중 오류가 발생했습니다.\")\n",
    "#         exit()\n",
    "import socket\n",
    "\n",
    "# 소켓 객체를 전역 변수로 선언 (다른 셀에서 사용할 수 있도록)\n",
    "s = None\n",
    "\n",
    "server_address = ('localhost', 9090)  # Java 서버에 연결\n",
    "\n",
    "try:\n",
    "    # 소켓 객체 생성\n",
    "    s = socket.socket(socket.AF_INET, socket.SOCK_STREAM)\n",
    "    \n",
    "    # 서버에 연결 시도 \n",
    "    s.connect(server_address)\n",
    "    \n",
    "    # 연결 성공 시 서버 정보 출력\n",
    "    print(\"정상적으로 서버와 연결이 완료되었습니다.\")\n",
    "    \n",
    "except socket.error as e:\n",
    "    # 연결 실패 시 오류 메시지 출력\n",
    "    print(\"통신 도중 오류가 발생했습니다.\")\n",
    "    if s:\n",
    "        s.close()  # 소켓 닫기\n",
    "    exit()\n",
    "\n"
   ]
  },
  {
   "cell_type": "markdown",
   "id": "74e7280e-3c38-44f1-a1d6-bdaad5fbf18a",
   "metadata": {},
   "source": [
    "# Server Federated Learning"
   ]
  },
  {
   "cell_type": "code",
   "execution_count": 11,
   "id": "88d75c02-dbb3-48c9-9685-f1afeb9e84b6",
   "metadata": {},
   "outputs": [],
   "source": [
    "# import os\n",
    "# def fed_avg_experiment(global_model, max_round, lr):\n",
    "#     # 실행 경로에 model 디렉토리가 있는지 확인하고, 없으면 생성\n",
    "#     model_dir = 'model'\n",
    "#     if not os.path.exists(model_dir):\n",
    "#         os.makedirs(model_dir)\n",
    "#         print(f\"디렉토리 생성: {model_dir}\")\n",
    "\n",
    "#     round_accuracy = []\n",
    "#     for t in range(max_round):\n",
    "        \n",
    "#         print(\"starting round {}\".format(t+1))\n",
    "        \n",
    "#         global_model.eval()\n",
    "#         global_model = global_model.to('cpu')\n",
    "#         torch.save(global_model, 'model/global_model.pt')  # 디렉토리가 생성된 이후에 저장\n",
    "#         running_avg = None\n",
    "        \n",
    "#         #############################################################################################\n",
    "        \n",
    "#         # 모델 전송 부분 (실제로 학습 요청)\n",
    "#         s.sendall(str(t).encode())  # Round Number 전송 \n",
    "        \n",
    "#         response = s.recv(1024)\n",
    "#         if response != t:\n",
    "#             print(\"통신 실패\")\n",
    "#         else: \n",
    "#             num_client = response  # 연결된 클라이언트 수 \n",
    "        \n",
    "#         #############################################################################################\n",
    "        \n",
    "#         # 클라이언트 갯수만큼 처리\n",
    "#         for k in range(num_client):\n",
    "#             client_model = torch.load(f'model/client_model_{k+1}')\n",
    "#             running_avg = running_model_avg(running_avg, client_model.state_dict(), 1/num_client)\n",
    "        \n",
    "#         global_model.load_state_dict(running_avg)\n",
    "        \n",
    "#         torch.save(global_model, 'model/global_model.pt')\n",
    "#         val_acc = validate(global_model)\n",
    "#         print('Round: {}  Accuracy: {}'.format(t+1, val_acc))\n",
    "#         round_accuracy.append(val_acc)\n",
    "        \n",
    "#     return round_accuracy\n",
    "\n",
    "\n",
    "import os\n",
    "import torch\n",
    "\n",
    "def fed_avg_experiment( global_model, max_round, lr, socket):\n",
    "    # 실행 경로에 model 디렉토리가 있는지 확인하고, 없으면 생성\n",
    "    model_dir = 'model'\n",
    "    if not os.path.exists(model_dir):\n",
    "        os.makedirs(model_dir)\n",
    "        print(f\"디렉토리 생성: {model_dir}\")\n",
    "\n",
    "    round_accuracy = []\n",
    "    for t in range(max_round):\n",
    "        \n",
    "        print(\"starting round {}\".format(t+1))\n",
    "        \n",
    "        global_model.eval()\n",
    "        global_model = global_model.to('cpu')\n",
    "        torch.save(global_model, 'model/global_model.pt')  # 디렉토리가 생성된 이후에 저장\n",
    "        running_avg = None\n",
    "        print('test1')\n",
    "        #############################################################################################\n",
    "        \n",
    "        # 모델 전송 부분 (실제로 학습 요청)\n",
    "        socket.sendall(str(t).encode())  # Round Number 전송\n",
    "        print('test2')\n",
    "        # 서버로부터 클라이언트 수 수신\n",
    "        response = socket.recv(1024)  # 받은 데이터를 문자열로 디코딩\n",
    "        print('test3', response)\n",
    "        \n",
    "        try:\n",
    "            num_client = int(response)  # 수신된 클라이언트 수를 정수로 변환\n",
    "        except ValueError:\n",
    "            print(\"통신 실패: 유효한 클라이언트 수를 받지 못했습니다.\")\n",
    "            continue\n",
    "        print('test3 {}'.foramt(num_client))\n",
    "        #############################################################################################\n",
    "        # 접속된 각각의 클라이언트에게 자신들의 데이터로 모델을 학습하도록 요청\n",
    "        # 요청받은 클라이언트들은 학습을 완료한 후에, 학습이 완료됐다고 서버에게 보냄.\n",
    "        # 모든 클라이언트에 대해서 학습이 완료가 되었다고 서버가 받으면,, 밑의 코드를 실행\n",
    "        ##############################################################################################\n",
    "        ####################\n",
    "        # 클라이언트 갯수만큼 처리\n",
    "        for k in range(num_client):\n",
    "            client_model = torch.load(f'model/client_model_{k+1}')\n",
    "            running_avg = running_model_avg(running_avg, client_model.state_dict(), 1/num_client)\n",
    "        \n",
    "        global_model.load_state_dict(running_avg)\n",
    "        \n",
    "        torch.save(global_model, 'model/global_model.pt')\n",
    "        val_acc = validate(global_model)\n",
    "        print('Round: {}  Accuracy: {}'.format(t+1, val_acc))\n",
    "        round_accuracy.append(val_acc)\n",
    "        \n",
    "    return round_accuracy\n",
    "\n",
    "# 작업이 끝나면 소켓 닫기\n",
    "\n"
   ]
  },
  {
   "cell_type": "markdown",
   "id": "dc9f7ee2-2dfa-4fd7-aec8-04ade1af9aa0",
   "metadata": {},
   "source": [
    "# Validate"
   ]
  },
  {
   "cell_type": "code",
   "execution_count": 12,
   "id": "4c888678-4243-4df5-8537-64d4569b45e4",
   "metadata": {},
   "outputs": [],
   "source": [
    "def validate(model):\n",
    "    model = model.to(device)\n",
    "    model.eval()\n",
    "    correct = 0\n",
    "    total = 0\n",
    "    with torch.no_grad():\n",
    "        for (t, (x, y)) in enumerate(test_loader):\n",
    "            x = x.to(device)\n",
    "            y = y.to(device)\n",
    "            out, _ = model(x)\n",
    "            correct += torch.sum(torch.argmax(out, dim=1) ==y).item()\n",
    "            total += x.shape[0]\n",
    "    return correct/total"
   ]
  },
  {
   "cell_type": "code",
   "execution_count": 4,
   "id": "3498a45a",
   "metadata": {},
   "outputs": [
    {
     "name": "stdout",
     "output_type": "stream",
     "text": [
      "정상적으로 서버와 연결이 완료되었습니다.\n"
     ]
    },
    {
     "ename": "NameError",
     "evalue": "name 'resnet18' is not defined",
     "output_type": "error",
     "traceback": [
      "\u001b[1;31m---------------------------------------------------------------------------\u001b[0m",
      "\u001b[1;31mNameError\u001b[0m                                 Traceback (most recent call last)",
      "Cell \u001b[1;32mIn[4], line 36\u001b[0m\n\u001b[0;32m     33\u001b[0m \u001b[38;5;66;03m# 연결 성공 시 서버 정보 출력\u001b[39;00m\n\u001b[0;32m     34\u001b[0m \u001b[38;5;28mprint\u001b[39m(\u001b[38;5;124m\"\u001b[39m\u001b[38;5;124m정상적으로 서버와 연결이 완료되었습니다.\u001b[39m\u001b[38;5;124m\"\u001b[39m)\n\u001b[1;32m---> 36\u001b[0m model \u001b[38;5;241m=\u001b[39m \u001b[43mresnet18\u001b[49m(\u001b[38;5;241m10\u001b[39m, \u001b[38;5;28;01mFalse\u001b[39;00m)\n\u001b[0;32m     37\u001b[0m criterion \u001b[38;5;241m=\u001b[39m nn\u001b[38;5;241m.\u001b[39mCrossEntropyLoss()\n\u001b[0;32m     38\u001b[0m acc \u001b[38;5;241m=\u001b[39m fed_avg_experiment(global_model\u001b[38;5;241m=\u001b[39mmodel, max_round\u001b[38;5;241m=\u001b[39m\u001b[38;5;241m100\u001b[39m, lr\u001b[38;5;241m=\u001b[39m\u001b[38;5;241m0.01\u001b[39m, socket\u001b[38;5;241m=\u001b[39ms)\n",
      "\u001b[1;31mNameError\u001b[0m: name 'resnet18' is not defined"
     ]
    }
   ],
   "source": [
    "# import socket\n",
    "\n",
    "\n",
    "# server_address = ('localhost', 9090) # 항시 Localhost -> Java 가동 서버로 전달 \n",
    "\n",
    "# with socket.socket(socket.AF_INET, socket.SOCK_STREAM) as s:\n",
    "#     try:\n",
    "#         # 서버에 연결 시도 \n",
    "#         s.connect(server_address)\n",
    "        \n",
    "#         # 연결 성공 시 서버 정보 출력\n",
    "#         print(\"정상적으로 서버와 연결이 완료되었습니다.\")\n",
    "\n",
    "            \n",
    "#     except socket.error as e:\n",
    "#         # 연결 실패 시 오류 메시지 출력\n",
    "#         print(\"통신 도중 오류가 발생했습니다.\")\n",
    "#         exit()\n",
    "import socket\n",
    "\n",
    "# 소켓 객체를 전역 변수로 선언 (다른 셀에서 사용할 수 있도록)\n",
    "s = None\n",
    "\n",
    "server_address = ('localhost', 9090)  # Java 서버에 연결\n",
    "\n",
    "try:\n",
    "    # 소켓 객체 생성\n",
    "    s = socket.socket(socket.AF_INET, socket.SOCK_STREAM)\n",
    "    \n",
    "    # 서버에 연결 시도 \n",
    "    s.connect(server_address)\n",
    "    \n",
    "    # 연결 성공 시 서버 정보 출력\n",
    "    print(\"정상적으로 서버와 연결이 완료되었습니다.\")\n",
    "    \n",
    "    model = resnet18(10, False)\n",
    "    criterion = nn.CrossEntropyLoss()\n",
    "    acc = fed_avg_experiment(global_model=model, max_round=100, lr=0.01, socket=s)\n",
    "    \n",
    "except socket.error as e:\n",
    "    # 연결 실패 시 오류 메시지 출력\n",
    "    print(\"통신 도중 오류가 발생했습니다.\")\n",
    "    if s:\n",
    "        s.close()  # 소켓 닫기\n",
    "    exit()\n"
   ]
  },
  {
   "cell_type": "code",
   "execution_count": null,
   "id": "a0b4a4cb",
   "metadata": {},
   "outputs": [],
   "source": []
  }
 ],
 "metadata": {
  "kernelspec": {
   "display_name": "Python 3",
   "language": "python",
   "name": "python3"
  },
  "language_info": {
   "codemirror_mode": {
    "name": "ipython",
    "version": 3
   },
   "file_extension": ".py",
   "mimetype": "text/x-python",
   "name": "python",
   "nbconvert_exporter": "python",
   "pygments_lexer": "ipython3",
   "version": "3.11.3"
  }
 },
 "nbformat": 4,
 "nbformat_minor": 5
}
