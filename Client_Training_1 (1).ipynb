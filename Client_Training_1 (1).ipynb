{
 "cells": [
  {
   "cell_type": "code",
   "execution_count": 8,
   "id": "cb9dd8f7-04fb-4ffb-973a-fb99475077a3",
   "metadata": {},
   "outputs": [],
   "source": [
    "import os\n",
    "import time\n",
    "import copy\n",
    "import random\n",
    "import math\n",
    "\n",
    "import numpy as np\n",
    "import pandas as pd\n",
    "\n",
    "import torch\n",
    "import torch.nn as nn\n",
    "import torch.nn.functional as F\n",
    "from torch.utils.data import TensorDataset, DataLoader, Subset\n",
    "\n",
    "from torchvision import datasets\n",
    "from torchvision import transforms\n",
    "\n",
    "import matplotlib.pyplot as plt\n",
    "from PIL import Image\n",
    "\n",
    "import IPython"
   ]
  },
  {
   "cell_type": "code",
   "execution_count": 3,
   "id": "a75ba7f5-e07a-4140-83c9-fadd003ef345",
   "metadata": {},
   "outputs": [
    {
     "name": "stdout",
     "output_type": "stream",
     "text": [
      "cuda\n"
     ]
    }
   ],
   "source": [
    "device = 'cuda' if torch.cuda.is_available() else 'cpu'\n",
    "print(device)"
   ]
  },
  {
   "cell_type": "markdown",
   "id": "77595627",
   "metadata": {},
   "source": [
    "## Start Connecting"
   ]
  },
  {
   "cell_type": "code",
   "execution_count": 9,
   "id": "b43730b0",
   "metadata": {},
   "outputs": [
    {
     "name": "stdout",
     "output_type": "stream",
     "text": [
      "Trying to connect...\n",
      "연결이 완료되었습니다. 서버 주소: localhost, 포트: 8080\n",
      "로컬 주소: ('127.0.0.1', 14087)\n"
     ]
    }
   ],
   "source": [
    "import socket\n",
    "\n",
    "\n",
    "server_address = ('localhost', 8080)\n",
    "\n",
    "print(\"Trying to connect...\")\n",
    "\n",
    "with socket.socket(socket.AF_INET, socket.SOCK_STREAM) as s:\n",
    "    try:\n",
    "        # 서버에 연결 시도 \n",
    "        s.connect(server_address)\n",
    "        \n",
    "        # 연결 성공 시 서버 정보 출력\n",
    "        print(f\"연결이 완료되었습니다. 서버 주소: {server_address[0]}, 포트: {server_address[1]}\")\n",
    "        print(f\"로컬 주소: {s.getsockname()}\")  # 클라이언트(로컬) 주소 출력\n",
    "            \n",
    "    except socket.error as e:\n",
    "        # 연결 실패 시 오류 메시지 출력\n",
    "        print(f\"서버에 연결할 수 없습니다: {e}\")\n",
    "\n"
   ]
  },
  {
   "cell_type": "markdown",
   "id": "28e584bd-1ebe-45c1-be59-a2ba7c371862",
   "metadata": {},
   "source": [
    "# ResNet18 Model"
   ]
  },
  {
   "cell_type": "code",
   "execution_count": 4,
   "id": "8e772b42-28e7-4e9b-a0e4-9276fa287b3b",
   "metadata": {},
   "outputs": [],
   "source": [
    "def conv3x3(in_planes, out_planes, stride=1):\n",
    "    return nn.Conv2d(in_planes, out_planes, kernel_size=3, stride=stride, padding=1, bias=False)\n",
    "\n",
    "class BasicBlock_18(nn.Module):\n",
    "    expansion = 1\n",
    "    def __init__(self, inplanes, planes, stride=1, downsample=None):\n",
    "        super(BasicBlock_18, self).__init__()\n",
    "        self.conv_1 = conv3x3(inplanes, planes, stride)\n",
    "        self.bn_1 = nn.BatchNorm2d(planes)\n",
    "        self.relu = nn.ReLU(inplace=True)\n",
    "        self.conv_2 = conv3x3(planes, planes)\n",
    "        self.bn_2 = nn.BatchNorm2d(planes)\n",
    "        self.downsample = downsample\n",
    "        self.stride = stride\n",
    "\n",
    "    def forward(self, x):\n",
    "        residual = x\n",
    "\n",
    "        out = self.conv_1(x)\n",
    "        out = self.bn_1(out)\n",
    "        out = self.relu(out)\n",
    "\n",
    "        out = self.conv_2(out)\n",
    "        out = self.bn_2(out)\n",
    "\n",
    "        if self.downsample is not None:\n",
    "            residual = self.downsample(x)\n",
    "\n",
    "        out = out + residual\n",
    "        out = self.relu(out)\n",
    "\n",
    "        return out\n",
    "\n",
    "class ResNet_18(nn.Module):\n",
    "    def __init__(self, block, layers, num_classes, grayscale):\n",
    "        self.inplanes = 64\n",
    "        if grayscale:\n",
    "            in_dim = 1\n",
    "        else:\n",
    "            in_dim = 3\n",
    "\n",
    "        super(ResNet_18, self).__init__()\n",
    "        self.conv1g = nn.Conv2d(in_dim, 64, kernel_size=7, stride=2, padding=3, bias=False)\n",
    "        self.bng = nn.BatchNorm2d(64)\n",
    "        self.relu = nn.ReLU(inplace=True)\n",
    "        self.maxpool = nn.MaxPool2d(kernel_size=3, stride=2, padding=1)\n",
    "        self.layer1 = self._make_layer(block, 64, layers[0])\n",
    "        self.layer2 = self._make_layer(block, 128, layers[1], stride=2)\n",
    "        self.layer3 = self._make_layer(block, 256, layers[2], stride=2)\n",
    "        self.layer4 = self._make_layer(block, 512, layers[3], stride=2)\n",
    "        self.avgpool = nn.AvgPool2d(7, stride=1)\n",
    "        self.fc = nn.Linear(512*block.expansion, num_classes)\n",
    "\n",
    "        for m in self.modules():\n",
    "            if isinstance(m, nn.Conv2d):\n",
    "                n = m.kernel_size[0] * m.kernel_size[1] * m.out_channels\n",
    "                m.weight.data.normal_(0, (2. / n)**.5)\n",
    "            elif isinstance(m, nn.BatchNorm2d):\n",
    "                m.weight.data.fill_(1)\n",
    "                m.bias.data.zero_()\n",
    "\n",
    "    def _make_layer(self, block, planes, blocks, stride=1):\n",
    "        downsample = None\n",
    "        if stride != 1 or self.inplanes != planes * block.expansion:\n",
    "            downsample = nn.Sequential(\n",
    "                nn.Conv2d(self.inplanes, planes * block.expansion,\n",
    "                          kernel_size=1, stride=stride, bias=False),\n",
    "                nn.BatchNorm2d(planes*block.expansion),\n",
    "            )\n",
    "        layers = []\n",
    "        layers.append(block(self.inplanes, planes, stride, downsample))\n",
    "        self.inplanes = planes * block.expansion\n",
    "        for i in range(1, blocks):\n",
    "            layers.append(block(self.inplanes, planes))\n",
    "        return nn.Sequential(*layers)\n",
    "\n",
    "    def forward(self, x):\n",
    "        x = self.conv1g(x)\n",
    "        x = self.bng(x)\n",
    "        x = self.relu(x)\n",
    "        x = self.maxpool(x)\n",
    "\n",
    "        x = self.layer1(x)\n",
    "        x = self.layer2(x)\n",
    "        x = self.layer3(x)\n",
    "        x = self.layer4(x)\n",
    "\n",
    "        x_full = x.view(x.size(0), -1)\n",
    "        logits = self.fc(x_full)\n",
    "        #probas = F.softmax(logits, dim=1)\n",
    "        return logits, x_full\n",
    "\n",
    "def resnet18(num_classes, GRAYSCALE):\n",
    "    model = ResNet_18(block=BasicBlock_18, layers=[2,2,2,2], num_classes=num_classes, grayscale=GRAYSCALE)\n",
    "    return model"
   ]
  },
  {
   "cell_type": "markdown",
   "id": "6a4e6149-72b9-43e3-90fb-6c70928122a0",
   "metadata": {},
   "source": [
    "# Client Model Training"
   ]
  },
  {
   "cell_type": "code",
   "execution_count": 5,
   "id": "bef57d55-3b4f-476f-bc4f-96c2213b1bf7",
   "metadata": {},
   "outputs": [],
   "source": [
    "def avg_train_client(id, client_loader, global_model, num_local_epochs, lr):\n",
    "    local_model = copy.deepcopy(global_model)\n",
    "    local_model = local_model.to(device)\n",
    "    local_model.train()\n",
    "    optimizer = torch.optim.SGD(local_model.parameters(), lr=lr, momentum = 0.9)\n",
    "\n",
    "    for epoch in range(num_local_epochs):\n",
    "        for (i, (x,y)) in enumerate(client_loader):\n",
    "            x = x.to(device)\n",
    "            y = y.to(device)\n",
    "            optimizer.zero_grad()\n",
    "            local_out, _ = local_model(x)\n",
    "      \n",
    "            loss = criterion(local_out, y)\n",
    "            loss.backward()\n",
    "            optimizer.step()\n",
    "    \n",
    "    \n",
    "    return local_model"
   ]
  },
  {
   "cell_type": "code",
   "execution_count": 9,
   "id": "ff498823-19fe-47ef-a777-cf880bec0718",
   "metadata": {
    "collapsed": true,
    "jupyter": {
     "outputs_hidden": true
    }
   },
   "outputs": [
    {
     "ename": "RuntimeError",
     "evalue": "Error(s) in loading state_dict for ResNet_18:\n\tMissing key(s) in state_dict: \"conv1g.weight\", \"bng.weight\", \"bng.bias\", \"bng.running_mean\", \"bng.running_var\", \"layer1.0.conv_1.weight\", \"layer1.0.bn_1.weight\", \"layer1.0.bn_1.bias\", \"layer1.0.bn_1.running_mean\", \"layer1.0.bn_1.running_var\", \"layer1.0.conv_2.weight\", \"layer1.0.bn_2.weight\", \"layer1.0.bn_2.bias\", \"layer1.0.bn_2.running_mean\", \"layer1.0.bn_2.running_var\", \"layer1.1.conv_1.weight\", \"layer1.1.bn_1.weight\", \"layer1.1.bn_1.bias\", \"layer1.1.bn_1.running_mean\", \"layer1.1.bn_1.running_var\", \"layer1.1.conv_2.weight\", \"layer1.1.bn_2.weight\", \"layer1.1.bn_2.bias\", \"layer1.1.bn_2.running_mean\", \"layer1.1.bn_2.running_var\", \"layer2.0.conv_1.weight\", \"layer2.0.bn_1.weight\", \"layer2.0.bn_1.bias\", \"layer2.0.bn_1.running_mean\", \"layer2.0.bn_1.running_var\", \"layer2.0.conv_2.weight\", \"layer2.0.bn_2.weight\", \"layer2.0.bn_2.bias\", \"layer2.0.bn_2.running_mean\", \"layer2.0.bn_2.running_var\", \"layer2.0.downsample.0.weight\", \"layer2.0.downsample.1.weight\", \"layer2.0.downsample.1.bias\", \"layer2.0.downsample.1.running_mean\", \"layer2.0.downsample.1.running_var\", \"layer2.1.conv_1.weight\", \"layer2.1.bn_1.weight\", \"layer2.1.bn_1.bias\", \"layer2.1.bn_1.running_mean\", \"layer2.1.bn_1.running_var\", \"layer2.1.conv_2.weight\", \"layer2.1.bn_2.weight\", \"layer2.1.bn_2.bias\", \"layer2.1.bn_2.running_mean\", \"layer2.1.bn_2.running_var\", \"layer3.0.conv_1.weight\", \"layer3.0.bn_1.weight\", \"layer3.0.bn_1.bias\", \"layer3.0.bn_1.running_mean\", \"layer3.0.bn_1.running_var\", \"layer3.0.conv_2.weight\", \"layer3.0.bn_2.weight\", \"layer3.0.bn_2.bias\", \"layer3.0.bn_2.running_mean\", \"layer3.0.bn_2.running_var\", \"layer3.0.downsample.0.weight\", \"layer3.0.downsample.1.weight\", \"layer3.0.downsample.1.bias\", \"layer3.0.downsample.1.running_mean\", \"layer3.0.downsample.1.running_var\", \"layer3.1.conv_1.weight\", \"layer3.1.bn_1.weight\", \"layer3.1.bn_1.bias\", \"layer3.1.bn_1.running_mean\", \"layer3.1.bn_1.running_var\", \"layer3.1.conv_2.weight\", \"layer3.1.bn_2.weight\", \"layer3.1.bn_2.bias\", \"layer3.1.bn_2.running_mean\", \"layer3.1.bn_2.running_var\", \"layer4.0.conv_1.weight\", \"layer4.0.bn_1.weight\", \"layer4.0.bn_1.bias\", \"layer4.0.bn_1.running_mean\", \"layer4.0.bn_1.running_var\", \"layer4.0.conv_2.weight\", \"layer4.0.bn_2.weight\", \"layer4.0.bn_2.bias\", \"layer4.0.bn_2.running_mean\", \"layer4.0.bn_2.running_var\", \"layer4.0.downsample.0.weight\", \"layer4.0.downsample.1.weight\", \"layer4.0.downsample.1.bias\", \"layer4.0.downsample.1.running_mean\", \"layer4.0.downsample.1.running_var\", \"layer4.1.conv_1.weight\", \"layer4.1.bn_1.weight\", \"layer4.1.bn_1.bias\", \"layer4.1.bn_1.running_mean\", \"layer4.1.bn_1.running_var\", \"layer4.1.conv_2.weight\", \"layer4.1.bn_2.weight\", \"layer4.1.bn_2.bias\", \"layer4.1.bn_2.running_mean\", \"layer4.1.bn_2.running_var\", \"fc.weight\", \"fc.bias\". \n\tUnexpected key(s) in state_dict: \"conv1.weight\", \"bn1.weight\", \"bn1.bias\", \"bn1.running_mean\", \"bn1.running_var\", \"bn1.num_batches_tracked\", \"linear.weight\", \"linear.bias\", \"layer1.0.conv1.weight\", \"layer1.0.bn1.weight\", \"layer1.0.bn1.bias\", \"layer1.0.bn1.running_mean\", \"layer1.0.bn1.running_var\", \"layer1.0.bn1.num_batches_tracked\", \"layer1.0.conv2.weight\", \"layer1.0.bn2.weight\", \"layer1.0.bn2.bias\", \"layer1.0.bn2.running_mean\", \"layer1.0.bn2.running_var\", \"layer1.0.bn2.num_batches_tracked\", \"layer1.1.conv1.weight\", \"layer1.1.bn1.weight\", \"layer1.1.bn1.bias\", \"layer1.1.bn1.running_mean\", \"layer1.1.bn1.running_var\", \"layer1.1.bn1.num_batches_tracked\", \"layer1.1.conv2.weight\", \"layer1.1.bn2.weight\", \"layer1.1.bn2.bias\", \"layer1.1.bn2.running_mean\", \"layer1.1.bn2.running_var\", \"layer1.1.bn2.num_batches_tracked\", \"layer2.0.conv1.weight\", \"layer2.0.bn1.weight\", \"layer2.0.bn1.bias\", \"layer2.0.bn1.running_mean\", \"layer2.0.bn1.running_var\", \"layer2.0.bn1.num_batches_tracked\", \"layer2.0.conv2.weight\", \"layer2.0.bn2.weight\", \"layer2.0.bn2.bias\", \"layer2.0.bn2.running_mean\", \"layer2.0.bn2.running_var\", \"layer2.0.bn2.num_batches_tracked\", \"layer2.0.shortcut.0.weight\", \"layer2.0.shortcut.1.weight\", \"layer2.0.shortcut.1.bias\", \"layer2.0.shortcut.1.running_mean\", \"layer2.0.shortcut.1.running_var\", \"layer2.0.shortcut.1.num_batches_tracked\", \"layer2.1.conv1.weight\", \"layer2.1.bn1.weight\", \"layer2.1.bn1.bias\", \"layer2.1.bn1.running_mean\", \"layer2.1.bn1.running_var\", \"layer2.1.bn1.num_batches_tracked\", \"layer2.1.conv2.weight\", \"layer2.1.bn2.weight\", \"layer2.1.bn2.bias\", \"layer2.1.bn2.running_mean\", \"layer2.1.bn2.running_var\", \"layer2.1.bn2.num_batches_tracked\", \"layer3.0.conv1.weight\", \"layer3.0.bn1.weight\", \"layer3.0.bn1.bias\", \"layer3.0.bn1.running_mean\", \"layer3.0.bn1.running_var\", \"layer3.0.bn1.num_batches_tracked\", \"layer3.0.conv2.weight\", \"layer3.0.bn2.weight\", \"layer3.0.bn2.bias\", \"layer3.0.bn2.running_mean\", \"layer3.0.bn2.running_var\", \"layer3.0.bn2.num_batches_tracked\", \"layer3.0.shortcut.0.weight\", \"layer3.0.shortcut.1.weight\", \"layer3.0.shortcut.1.bias\", \"layer3.0.shortcut.1.running_mean\", \"layer3.0.shortcut.1.running_var\", \"layer3.0.shortcut.1.num_batches_tracked\", \"layer3.1.conv1.weight\", \"layer3.1.bn1.weight\", \"layer3.1.bn1.bias\", \"layer3.1.bn1.running_mean\", \"layer3.1.bn1.running_var\", \"layer3.1.bn1.num_batches_tracked\", \"layer3.1.conv2.weight\", \"layer3.1.bn2.weight\", \"layer3.1.bn2.bias\", \"layer3.1.bn2.running_mean\", \"layer3.1.bn2.running_var\", \"layer3.1.bn2.num_batches_tracked\", \"layer4.0.conv1.weight\", \"layer4.0.bn1.weight\", \"layer4.0.bn1.bias\", \"layer4.0.bn1.running_mean\", \"layer4.0.bn1.running_var\", \"layer4.0.bn1.num_batches_tracked\", \"layer4.0.conv2.weight\", \"layer4.0.bn2.weight\", \"layer4.0.bn2.bias\", \"layer4.0.bn2.running_mean\", \"layer4.0.bn2.running_var\", \"layer4.0.bn2.num_batches_tracked\", \"layer4.0.shortcut.0.weight\", \"layer4.0.shortcut.1.weight\", \"layer4.0.shortcut.1.bias\", \"layer4.0.shortcut.1.running_mean\", \"layer4.0.shortcut.1.running_var\", \"layer4.0.shortcut.1.num_batches_tracked\", \"layer4.1.conv1.weight\", \"layer4.1.bn1.weight\", \"layer4.1.bn1.bias\", \"layer4.1.bn1.running_mean\", \"layer4.1.bn1.running_var\", \"layer4.1.bn1.num_batches_tracked\", \"layer4.1.conv2.weight\", \"layer4.1.bn2.weight\", \"layer4.1.bn2.bias\", \"layer4.1.bn2.running_mean\", \"layer4.1.bn2.running_var\", \"layer4.1.bn2.num_batches_tracked\". ",
     "output_type": "error",
     "traceback": [
      "\u001b[0;31m---------------------------------------------------------------------------\u001b[0m",
      "\u001b[0;31mRuntimeError\u001b[0m                              Traceback (most recent call last)",
      "Cell \u001b[0;32mIn[9], line 3\u001b[0m\n\u001b[1;32m      1\u001b[0m global_model \u001b[38;5;241m=\u001b[39m torch\u001b[38;5;241m.\u001b[39mload(\u001b[38;5;124m'\u001b[39m\u001b[38;5;124m/home/jovyan/Taein/global_model.pt\u001b[39m\u001b[38;5;124m'\u001b[39m)\n\u001b[1;32m      2\u001b[0m client_model \u001b[38;5;241m=\u001b[39m resnet18(\u001b[38;5;241m10\u001b[39m, \u001b[38;5;28;01mFalse\u001b[39;00m)\n\u001b[0;32m----> 3\u001b[0m \u001b[43mclient_model\u001b[49m\u001b[38;5;241;43m.\u001b[39;49m\u001b[43mload_state_dict\u001b[49m\u001b[43m(\u001b[49m\u001b[43mglobal_model\u001b[49m\u001b[43m)\u001b[49m\n\u001b[1;32m      6\u001b[0m client_dataset \u001b[38;5;241m=\u001b[39m torch\u001b[38;5;241m.\u001b[39mload(\u001b[38;5;124m'\u001b[39m\u001b[38;5;124m/home/jovyan/Taein/data/cifar10_split_2.pt\u001b[39m\u001b[38;5;124m'\u001b[39m)\n\u001b[1;32m      7\u001b[0m client_loader \u001b[38;5;241m=\u001b[39m DataLoader(client_dataset, batch_size\u001b[38;5;241m=\u001b[39m\u001b[38;5;241m32\u001b[39m, shuffle\u001b[38;5;241m=\u001b[39m\u001b[38;5;28;01mTrue\u001b[39;00m)\n",
      "File \u001b[0;32m/opt/conda/lib/python3.11/site-packages/torch/nn/modules/module.py:2189\u001b[0m, in \u001b[0;36mModule.load_state_dict\u001b[0;34m(self, state_dict, strict, assign)\u001b[0m\n\u001b[1;32m   2184\u001b[0m         error_msgs\u001b[38;5;241m.\u001b[39minsert(\n\u001b[1;32m   2185\u001b[0m             \u001b[38;5;241m0\u001b[39m, \u001b[38;5;124m'\u001b[39m\u001b[38;5;124mMissing key(s) in state_dict: \u001b[39m\u001b[38;5;132;01m{}\u001b[39;00m\u001b[38;5;124m. \u001b[39m\u001b[38;5;124m'\u001b[39m\u001b[38;5;241m.\u001b[39mformat(\n\u001b[1;32m   2186\u001b[0m                 \u001b[38;5;124m'\u001b[39m\u001b[38;5;124m, \u001b[39m\u001b[38;5;124m'\u001b[39m\u001b[38;5;241m.\u001b[39mjoin(\u001b[38;5;124mf\u001b[39m\u001b[38;5;124m'\u001b[39m\u001b[38;5;124m\"\u001b[39m\u001b[38;5;132;01m{\u001b[39;00mk\u001b[38;5;132;01m}\u001b[39;00m\u001b[38;5;124m\"\u001b[39m\u001b[38;5;124m'\u001b[39m \u001b[38;5;28;01mfor\u001b[39;00m k \u001b[38;5;129;01min\u001b[39;00m missing_keys)))\n\u001b[1;32m   2188\u001b[0m \u001b[38;5;28;01mif\u001b[39;00m \u001b[38;5;28mlen\u001b[39m(error_msgs) \u001b[38;5;241m>\u001b[39m \u001b[38;5;241m0\u001b[39m:\n\u001b[0;32m-> 2189\u001b[0m     \u001b[38;5;28;01mraise\u001b[39;00m \u001b[38;5;167;01mRuntimeError\u001b[39;00m(\u001b[38;5;124m'\u001b[39m\u001b[38;5;124mError(s) in loading state_dict for \u001b[39m\u001b[38;5;132;01m{}\u001b[39;00m\u001b[38;5;124m:\u001b[39m\u001b[38;5;130;01m\\n\u001b[39;00m\u001b[38;5;130;01m\\t\u001b[39;00m\u001b[38;5;132;01m{}\u001b[39;00m\u001b[38;5;124m'\u001b[39m\u001b[38;5;241m.\u001b[39mformat(\n\u001b[1;32m   2190\u001b[0m                        \u001b[38;5;28mself\u001b[39m\u001b[38;5;241m.\u001b[39m\u001b[38;5;18m__class__\u001b[39m\u001b[38;5;241m.\u001b[39m\u001b[38;5;18m__name__\u001b[39m, \u001b[38;5;124m\"\u001b[39m\u001b[38;5;130;01m\\n\u001b[39;00m\u001b[38;5;130;01m\\t\u001b[39;00m\u001b[38;5;124m\"\u001b[39m\u001b[38;5;241m.\u001b[39mjoin(error_msgs)))\n\u001b[1;32m   2191\u001b[0m \u001b[38;5;28;01mreturn\u001b[39;00m _IncompatibleKeys(missing_keys, unexpected_keys)\n",
      "\u001b[0;31mRuntimeError\u001b[0m: Error(s) in loading state_dict for ResNet_18:\n\tMissing key(s) in state_dict: \"conv1g.weight\", \"bng.weight\", \"bng.bias\", \"bng.running_mean\", \"bng.running_var\", \"layer1.0.conv_1.weight\", \"layer1.0.bn_1.weight\", \"layer1.0.bn_1.bias\", \"layer1.0.bn_1.running_mean\", \"layer1.0.bn_1.running_var\", \"layer1.0.conv_2.weight\", \"layer1.0.bn_2.weight\", \"layer1.0.bn_2.bias\", \"layer1.0.bn_2.running_mean\", \"layer1.0.bn_2.running_var\", \"layer1.1.conv_1.weight\", \"layer1.1.bn_1.weight\", \"layer1.1.bn_1.bias\", \"layer1.1.bn_1.running_mean\", \"layer1.1.bn_1.running_var\", \"layer1.1.conv_2.weight\", \"layer1.1.bn_2.weight\", \"layer1.1.bn_2.bias\", \"layer1.1.bn_2.running_mean\", \"layer1.1.bn_2.running_var\", \"layer2.0.conv_1.weight\", \"layer2.0.bn_1.weight\", \"layer2.0.bn_1.bias\", \"layer2.0.bn_1.running_mean\", \"layer2.0.bn_1.running_var\", \"layer2.0.conv_2.weight\", \"layer2.0.bn_2.weight\", \"layer2.0.bn_2.bias\", \"layer2.0.bn_2.running_mean\", \"layer2.0.bn_2.running_var\", \"layer2.0.downsample.0.weight\", \"layer2.0.downsample.1.weight\", \"layer2.0.downsample.1.bias\", \"layer2.0.downsample.1.running_mean\", \"layer2.0.downsample.1.running_var\", \"layer2.1.conv_1.weight\", \"layer2.1.bn_1.weight\", \"layer2.1.bn_1.bias\", \"layer2.1.bn_1.running_mean\", \"layer2.1.bn_1.running_var\", \"layer2.1.conv_2.weight\", \"layer2.1.bn_2.weight\", \"layer2.1.bn_2.bias\", \"layer2.1.bn_2.running_mean\", \"layer2.1.bn_2.running_var\", \"layer3.0.conv_1.weight\", \"layer3.0.bn_1.weight\", \"layer3.0.bn_1.bias\", \"layer3.0.bn_1.running_mean\", \"layer3.0.bn_1.running_var\", \"layer3.0.conv_2.weight\", \"layer3.0.bn_2.weight\", \"layer3.0.bn_2.bias\", \"layer3.0.bn_2.running_mean\", \"layer3.0.bn_2.running_var\", \"layer3.0.downsample.0.weight\", \"layer3.0.downsample.1.weight\", \"layer3.0.downsample.1.bias\", \"layer3.0.downsample.1.running_mean\", \"layer3.0.downsample.1.running_var\", \"layer3.1.conv_1.weight\", \"layer3.1.bn_1.weight\", \"layer3.1.bn_1.bias\", \"layer3.1.bn_1.running_mean\", \"layer3.1.bn_1.running_var\", \"layer3.1.conv_2.weight\", \"layer3.1.bn_2.weight\", \"layer3.1.bn_2.bias\", \"layer3.1.bn_2.running_mean\", \"layer3.1.bn_2.running_var\", \"layer4.0.conv_1.weight\", \"layer4.0.bn_1.weight\", \"layer4.0.bn_1.bias\", \"layer4.0.bn_1.running_mean\", \"layer4.0.bn_1.running_var\", \"layer4.0.conv_2.weight\", \"layer4.0.bn_2.weight\", \"layer4.0.bn_2.bias\", \"layer4.0.bn_2.running_mean\", \"layer4.0.bn_2.running_var\", \"layer4.0.downsample.0.weight\", \"layer4.0.downsample.1.weight\", \"layer4.0.downsample.1.bias\", \"layer4.0.downsample.1.running_mean\", \"layer4.0.downsample.1.running_var\", \"layer4.1.conv_1.weight\", \"layer4.1.bn_1.weight\", \"layer4.1.bn_1.bias\", \"layer4.1.bn_1.running_mean\", \"layer4.1.bn_1.running_var\", \"layer4.1.conv_2.weight\", \"layer4.1.bn_2.weight\", \"layer4.1.bn_2.bias\", \"layer4.1.bn_2.running_mean\", \"layer4.1.bn_2.running_var\", \"fc.weight\", \"fc.bias\". \n\tUnexpected key(s) in state_dict: \"conv1.weight\", \"bn1.weight\", \"bn1.bias\", \"bn1.running_mean\", \"bn1.running_var\", \"bn1.num_batches_tracked\", \"linear.weight\", \"linear.bias\", \"layer1.0.conv1.weight\", \"layer1.0.bn1.weight\", \"layer1.0.bn1.bias\", \"layer1.0.bn1.running_mean\", \"layer1.0.bn1.running_var\", \"layer1.0.bn1.num_batches_tracked\", \"layer1.0.conv2.weight\", \"layer1.0.bn2.weight\", \"layer1.0.bn2.bias\", \"layer1.0.bn2.running_mean\", \"layer1.0.bn2.running_var\", \"layer1.0.bn2.num_batches_tracked\", \"layer1.1.conv1.weight\", \"layer1.1.bn1.weight\", \"layer1.1.bn1.bias\", \"layer1.1.bn1.running_mean\", \"layer1.1.bn1.running_var\", \"layer1.1.bn1.num_batches_tracked\", \"layer1.1.conv2.weight\", \"layer1.1.bn2.weight\", \"layer1.1.bn2.bias\", \"layer1.1.bn2.running_mean\", \"layer1.1.bn2.running_var\", \"layer1.1.bn2.num_batches_tracked\", \"layer2.0.conv1.weight\", \"layer2.0.bn1.weight\", \"layer2.0.bn1.bias\", \"layer2.0.bn1.running_mean\", \"layer2.0.bn1.running_var\", \"layer2.0.bn1.num_batches_tracked\", \"layer2.0.conv2.weight\", \"layer2.0.bn2.weight\", \"layer2.0.bn2.bias\", \"layer2.0.bn2.running_mean\", \"layer2.0.bn2.running_var\", \"layer2.0.bn2.num_batches_tracked\", \"layer2.0.shortcut.0.weight\", \"layer2.0.shortcut.1.weight\", \"layer2.0.shortcut.1.bias\", \"layer2.0.shortcut.1.running_mean\", \"layer2.0.shortcut.1.running_var\", \"layer2.0.shortcut.1.num_batches_tracked\", \"layer2.1.conv1.weight\", \"layer2.1.bn1.weight\", \"layer2.1.bn1.bias\", \"layer2.1.bn1.running_mean\", \"layer2.1.bn1.running_var\", \"layer2.1.bn1.num_batches_tracked\", \"layer2.1.conv2.weight\", \"layer2.1.bn2.weight\", \"layer2.1.bn2.bias\", \"layer2.1.bn2.running_mean\", \"layer2.1.bn2.running_var\", \"layer2.1.bn2.num_batches_tracked\", \"layer3.0.conv1.weight\", \"layer3.0.bn1.weight\", \"layer3.0.bn1.bias\", \"layer3.0.bn1.running_mean\", \"layer3.0.bn1.running_var\", \"layer3.0.bn1.num_batches_tracked\", \"layer3.0.conv2.weight\", \"layer3.0.bn2.weight\", \"layer3.0.bn2.bias\", \"layer3.0.bn2.running_mean\", \"layer3.0.bn2.running_var\", \"layer3.0.bn2.num_batches_tracked\", \"layer3.0.shortcut.0.weight\", \"layer3.0.shortcut.1.weight\", \"layer3.0.shortcut.1.bias\", \"layer3.0.shortcut.1.running_mean\", \"layer3.0.shortcut.1.running_var\", \"layer3.0.shortcut.1.num_batches_tracked\", \"layer3.1.conv1.weight\", \"layer3.1.bn1.weight\", \"layer3.1.bn1.bias\", \"layer3.1.bn1.running_mean\", \"layer3.1.bn1.running_var\", \"layer3.1.bn1.num_batches_tracked\", \"layer3.1.conv2.weight\", \"layer3.1.bn2.weight\", \"layer3.1.bn2.bias\", \"layer3.1.bn2.running_mean\", \"layer3.1.bn2.running_var\", \"layer3.1.bn2.num_batches_tracked\", \"layer4.0.conv1.weight\", \"layer4.0.bn1.weight\", \"layer4.0.bn1.bias\", \"layer4.0.bn1.running_mean\", \"layer4.0.bn1.running_var\", \"layer4.0.bn1.num_batches_tracked\", \"layer4.0.conv2.weight\", \"layer4.0.bn2.weight\", \"layer4.0.bn2.bias\", \"layer4.0.bn2.running_mean\", \"layer4.0.bn2.running_var\", \"layer4.0.bn2.num_batches_tracked\", \"layer4.0.shortcut.0.weight\", \"layer4.0.shortcut.1.weight\", \"layer4.0.shortcut.1.bias\", \"layer4.0.shortcut.1.running_mean\", \"layer4.0.shortcut.1.running_var\", \"layer4.0.shortcut.1.num_batches_tracked\", \"layer4.1.conv1.weight\", \"layer4.1.bn1.weight\", \"layer4.1.bn1.bias\", \"layer4.1.bn1.running_mean\", \"layer4.1.bn1.running_var\", \"layer4.1.bn1.num_batches_tracked\", \"layer4.1.conv2.weight\", \"layer4.1.bn2.weight\", \"layer4.1.bn2.bias\", \"layer4.1.bn2.running_mean\", \"layer4.1.bn2.running_var\", \"layer4.1.bn2.num_batches_tracked\". "
     ]
    }
   ],
   "source": [
    "\n",
    "\n",
    "### 서버에게서 받은 global model.pt\n",
    "\n",
    "\n",
    "global_model = torch.load('/home/jovyan/Taein/global_model.pt')\n",
    "client_model = resnet18(10, False)\n",
    "client_model.load_state_dict(global_model)\n",
    "\n",
    "client_dataset = torch.load('/home/jovyan/Taein/data/cifar10_split_1.pt')\n",
    "client_loader = DataLoader(client_dataset, batch_size=32, shuffle=True)\n",
    "\n",
    "\n",
    "criterion = nn.CrossEntropyLoss()\n",
    "\n",
    "client_model_1 = avg_train_client(1, client_loader, model, 5, 0.01)\n",
    "\n",
    "torch.save(client_model_1, '/home/jovyan/Taein/client_model_1.pt')\n",
    "\n",
    "\n",
    "### 클라이언트는 서버에게 client_model_(i).pt를 준다."
   ]
  },
  {
   "cell_type": "code",
   "execution_count": null,
   "id": "c4ffbeac-e8b1-42a1-a754-5ab209f75d21",
   "metadata": {},
   "outputs": [],
   "source": [
    "# 1 라운드 동안.. 접속 완료\n",
    "# 서버에게 모델을 받음 \n",
    "# 함수 돌리고\n",
    "# 모델 저장\n",
    "# 서버에게 보냄"
   ]
  },
  {
   "cell_type": "code",
   "execution_count": null,
   "id": "d0b20e4f",
   "metadata": {},
   "outputs": [],
   "source": []
  }
 ],
 "metadata": {
  "kernelspec": {
   "display_name": "Python 3",
   "language": "python",
   "name": "python3"
  },
  "language_info": {
   "codemirror_mode": {
    "name": "ipython",
    "version": 3
   },
   "file_extension": ".py",
   "mimetype": "text/x-python",
   "name": "python",
   "nbconvert_exporter": "python",
   "pygments_lexer": "ipython3",
   "version": "3.11.8"
  }
 },
 "nbformat": 4,
 "nbformat_minor": 5
}
